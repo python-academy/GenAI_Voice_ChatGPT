{
 "cells": [
  {
   "cell_type": "code",
   "execution_count": null,
   "id": "bd62afe7",
   "metadata": {},
   "outputs": [],
   "source": [
    "## https://platform.openai.com/api-keys"
   ]
  },
  {
   "cell_type": "code",
   "execution_count": 2,
   "id": "2f86effa",
   "metadata": {},
   "outputs": [],
   "source": [
    "!python -m venv openai-env"
   ]
  },
  {
   "cell_type": "code",
   "execution_count": 7,
   "id": "b857e66b",
   "metadata": {},
   "outputs": [],
   "source": [
    "!openai-env\\Scripts\\activate"
   ]
  },
  {
   "cell_type": "code",
   "execution_count": 5,
   "id": "308a0d9a",
   "metadata": {},
   "outputs": [
    {
     "name": "stdout",
     "output_type": "stream",
     "text": [
      "Requirement already satisfied: openai in c:\\programdata\\anaconda31\\lib\\site-packages (1.13.3)\n",
      "Requirement already satisfied: httpx<1,>=0.23.0 in c:\\users\\anupk\\appdata\\roaming\\python\\python38\\site-packages (from openai) (0.26.0)\n",
      "Requirement already satisfied: anyio<5,>=3.5.0 in c:\\users\\anupk\\appdata\\roaming\\python\\python38\\site-packages (from openai) (4.2.0)\n",
      "Requirement already satisfied: distro<2,>=1.7.0 in c:\\users\\anupk\\appdata\\roaming\\python\\python38\\site-packages (from openai) (1.9.0)\n",
      "Requirement already satisfied: tqdm>4 in c:\\programdata\\anaconda31\\lib\\site-packages (from openai) (4.59.0)\n",
      "Requirement already satisfied: sniffio in c:\\programdata\\anaconda31\\lib\\site-packages (from openai) (1.2.0)\n",
      "Requirement already satisfied: pydantic<3,>=1.9.0 in c:\\users\\anupk\\appdata\\roaming\\python\\python38\\site-packages (from openai) (2.6.1)\n",
      "Requirement already satisfied: typing-extensions<5,>=4.7 in c:\\users\\anupk\\appdata\\roaming\\python\\python38\\site-packages (from openai) (4.9.0)\n",
      "Requirement already satisfied: idna>=2.8 in c:\\programdata\\anaconda31\\lib\\site-packages (from anyio<5,>=3.5.0->openai) (2.10)\n",
      "Requirement already satisfied: exceptiongroup>=1.0.2 in c:\\users\\anupk\\appdata\\roaming\\python\\python38\\site-packages (from anyio<5,>=3.5.0->openai) (1.2.0)\n",
      "Requirement already satisfied: certifi in c:\\programdata\\anaconda31\\lib\\site-packages (from httpx<1,>=0.23.0->openai) (2020.12.5)\n",
      "Requirement already satisfied: httpcore==1.* in c:\\users\\anupk\\appdata\\roaming\\python\\python38\\site-packages (from httpx<1,>=0.23.0->openai) (1.0.3)\n",
      "Requirement already satisfied: h11<0.15,>=0.13 in c:\\users\\anupk\\appdata\\roaming\\python\\python38\\site-packages (from httpcore==1.*->httpx<1,>=0.23.0->openai) (0.14.0)\n",
      "Requirement already satisfied: annotated-types>=0.4.0 in c:\\users\\anupk\\appdata\\roaming\\python\\python38\\site-packages (from pydantic<3,>=1.9.0->openai) (0.6.0)\n",
      "Requirement already satisfied: pydantic-core==2.16.2 in c:\\users\\anupk\\appdata\\roaming\\python\\python38\\site-packages (from pydantic<3,>=1.9.0->openai) (2.16.2)\n"
     ]
    }
   ],
   "source": [
    "!pip install --upgrade openai"
   ]
  },
  {
   "cell_type": "code",
   "execution_count": 2,
   "id": "083fb1e0",
   "metadata": {},
   "outputs": [
    {
     "name": "stdout",
     "output_type": "stream",
     "text": [
      "Requirement already satisfied: SpeechRecognition in c:\\programdata\\anaconda31\\lib\\site-packages (3.8.1)\n",
      "Note: you may need to restart the kernel to use updated packages.\n"
     ]
    }
   ],
   "source": [
    "pip install SpeechRecognition"
   ]
  },
  {
   "cell_type": "code",
   "execution_count": 12,
   "id": "bf6f7a4d",
   "metadata": {},
   "outputs": [
    {
     "name": "stdout",
     "output_type": "stream",
     "text": [
      "Processing c:\\users\\anupk\\anacondaprojects\\pyaudio-0.2.14-cp38-cp38-win_amd64.whl\n",
      "Installing collected packages: PyAudio\n",
      "Successfully installed PyAudio-0.2.14\n"
     ]
    }
   ],
   "source": [
    "!pip install PyAudio-0.2.14-cp38-cp38-win_amd64.whl"
   ]
  },
  {
   "cell_type": "code",
   "execution_count": 8,
   "id": "cbb2a9b4",
   "metadata": {},
   "outputs": [],
   "source": [
    "from openai import OpenAI"
   ]
  },
  {
   "cell_type": "code",
   "execution_count": 7,
   "id": "239a9d4e",
   "metadata": {},
   "outputs": [],
   "source": [
    "import speech_recognition as sr\n",
    "import time"
   ]
  },
  {
   "cell_type": "code",
   "execution_count": 5,
   "id": "38695a99",
   "metadata": {},
   "outputs": [],
   "source": [
    "f = open(\"key.txt\")\n",
    "key_from_file = f.readline()\n",
    "f.close()"
   ]
  },
  {
   "cell_type": "code",
   "execution_count": 6,
   "id": "4ab0628a",
   "metadata": {},
   "outputs": [],
   "source": [
    "# OpenAI API key\n",
    "# OPENAI_API_KEY = \"slgjsldgjsldgkjsldkgjlsdkjgfsldjk\"\n",
    "OPENAI_API_KEY = key_from_file\n"
   ]
  },
  {
   "cell_type": "code",
   "execution_count": 9,
   "id": "792dea2f",
   "metadata": {},
   "outputs": [],
   "source": [
    "def recognize_speech_from_mic(recognizer, microphone):\n",
    "\n",
    "    # check that recognizer and microphone arguments are appropriate type\n",
    "    if not isinstance(recognizer, sr.Recognizer):\n",
    "        raise TypeError(\"`recognizer` must be `Recognizer` instance\")\n",
    "\n",
    "    if not isinstance(microphone, sr.Microphone):\n",
    "        raise TypeError(\"`microphone` must be `Microphone` instance\")\n",
    "\n",
    "    # adjust the recognizer sensitivity to ambient noise and record audio\n",
    "    # from the microphone\n",
    "    with microphone as source:\n",
    "        recognizer.adjust_for_ambient_noise(source) # #  analyze the audio source for 1 second\n",
    "        audio = recognizer.listen(source)\n",
    "\n",
    "    # set up the response object\n",
    "    response = {\n",
    "        \"success\": True,\n",
    "        \"error\": None,\n",
    "        \"transcription\": None\n",
    "    }\n",
    "\n",
    "    # try recognizing the speech in the recording\n",
    "    # if a RequestError or UnknownValueError exception is caught,\n",
    "    #   update the response object accordingly\n",
    "    try:\n",
    "        response[\"transcription\"] = recognizer.recognize_google(audio)\n",
    "    except sr.RequestError:\n",
    "        # API was unreachable or unresponsive\n",
    "        response[\"success\"] = False\n",
    "        response[\"error\"] = \"API unavailable/unresponsive\"\n",
    "    except sr.UnknownValueError:\n",
    "        # speech was unintelligible\n",
    "        response[\"error\"] = \"Unable to recognize speech\"\n",
    "\n",
    "    return response"
   ]
  },
  {
   "cell_type": "code",
   "execution_count": 6,
   "id": "de22602f",
   "metadata": {},
   "outputs": [],
   "source": [
    "recognizer = sr.Recognizer()"
   ]
  },
  {
   "cell_type": "code",
   "execution_count": 7,
   "id": "835283c0",
   "metadata": {},
   "outputs": [],
   "source": [
    "mic = sr.Microphone(device_index=1)"
   ]
  },
  {
   "cell_type": "code",
   "execution_count": 8,
   "id": "015054c8",
   "metadata": {},
   "outputs": [],
   "source": [
    "response = recognize_speech_from_mic(recognizer, mic)"
   ]
  },
  {
   "cell_type": "code",
   "execution_count": 9,
   "id": "8f6dffa8",
   "metadata": {},
   "outputs": [
    {
     "name": "stdout",
     "output_type": "stream",
     "text": [
      "\n",
      "Success : True\n",
      "Error   : None\n",
      "\n",
      "Text from Speech\n",
      "-----------------\n",
      "\n",
      "hello\n"
     ]
    }
   ],
   "source": [
    "print('\\nSuccess : {}\\nError   : {}\\n\\nText from Speech\\n{}\\n\\n{}' \\\n",
    "          .format(response['success'],\n",
    "                  response['error'],\n",
    "                  '-'*17,\n",
    "                  response['transcription']))"
   ]
  },
  {
   "cell_type": "code",
   "execution_count": 11,
   "id": "3308e1dc",
   "metadata": {},
   "outputs": [
    {
     "name": "stdout",
     "output_type": "stream",
     "text": [
      "Say to me\n",
      "You said  : how are you\n",
      "Say to me\n",
      "You said  : None\n",
      "Say to me\n",
      "You said  : None\n",
      "Say to me\n",
      "You said  : bye\n",
      "Thanks for your Tests\n"
     ]
    }
   ],
   "source": [
    "temp_str = ''\n",
    "records_all = []\n",
    "while (temp_str != 'bye'):\n",
    "    print('Say to me')\n",
    "    response = recognize_speech_from_mic(recognizer, mic)\n",
    "    if response['success']:\n",
    "        temp_str = response['transcription']\n",
    "        print('You said  :' ,temp_str )\n",
    "print('Thanks for your Tests')"
   ]
  },
  {
   "cell_type": "code",
   "execution_count": 9,
   "id": "c7e9d7bd",
   "metadata": {},
   "outputs": [
    {
     "name": "stdout",
     "output_type": "stream",
     "text": [
      "ChatCompletionMessage(content=\"In the world of code, there lies a magic spell,\\nA concept both daunting and lovely as well.\\nRecursion, they call it, a mystical art,\\nA journey through loops that's sacred at heart.\\n\\nLike a whispering echo in a deep, dark cave,\\nRecursion calls itself, so brave and so brave.\\nA function that calls itself, again and again,\\nDiving deeper and deeper, breaking free from the chain.\\n\\nIt's a mirror reflecting a never-ending dream,\\nA dance of logic, a symphony unseen.\\nWith each recursive call, a new path is revealed,\\nUnraveling mysteries, a fate that's sealed.\\n\\nThough complex and mysterious in its design,\\nRecursion holds beauty, like stars that align.\\nIn the realm of coding, it's a powerful ally,\\nA tool for the bold, the curious, the sly.\\n\\nSo embrace the recursion, let your code dance and soar,\\nUnlocking the secrets that lurk at its core.\\nFor in this realm of ones and zeros, we find,\\nThe endless loop of recursion, truly one of a kind.\", role='assistant', function_call=None, tool_calls=None)\n"
     ]
    }
   ],
   "source": [
    "client = OpenAI(api_key=OPENAI_API_KEY)\n",
    "\n",
    "completion = client.chat.completions.create(\n",
    "  model=\"gpt-3.5-turbo\",\n",
    "  messages=[\n",
    "    {\"role\": \"system\", \"content\": \"You are a poetic assistant, skilled in explaining complex programming concepts with creative flair.\"},\n",
    "    {\"role\": \"user\", \"content\": \"Compose a poem that explains the concept of recursion in programming.\"}\n",
    "  ]\n",
    ")\n",
    "\n",
    "print(completion.choices[0].message)"
   ]
  },
  {
   "cell_type": "code",
   "execution_count": 42,
   "id": "bf1589fc",
   "metadata": {},
   "outputs": [],
   "source": [
    "def question_to_ans(question):\n",
    "    \n",
    "    completion = client.chat.completions.create(\n",
    "      model=\"gpt-3.5-turbo\",\n",
    "      messages=[\n",
    "        {\"role\": \"system\", \"content\": \"You are a life coach.Provide answer for career guidance\"},\n",
    "        {\"role\": \"user\", \"content\": question}\n",
    "      ]\n",
    "    )\n",
    "\n",
    "    return(completion.choices[0].message)\n",
    "    "
   ]
  },
  {
   "cell_type": "code",
   "execution_count": 60,
   "id": "77b68e24",
   "metadata": {},
   "outputs": [
    {
     "name": "stdout",
     "output_type": "stream",
     "text": [
      "Tell me your question\n",
      "Question is : hello how r u\n",
      "-------------------------------------------------------------------------\n",
      "Hello! I'm just a computer program, so I don't have feelings, but thank you for asking. How can I assist you today?\n",
      "==========================================================================\n",
      "Ask your next question please------------------>\n",
      "Tell me your question\n",
      "Question is : I want to be a professional in my life\n",
      "-------------------------------------------------------------------------\n",
      "That's a great goal to strive for! To become a professional in your chosen field, start by identifying your strengths, interests, and values. Research different careers that align with your passions and skills. Consider pursuing further education or training to gain the necessary qualifications. Network with professionals in your desired industry and seek out mentorship opportunities. Stay committed to continuous learning and growth, and always be open to new opportunities that come your way. Remember, becoming a professional is a journey that requires dedication, hard work, and perseverance. Trust in your abilities and keep pushing forward towards your goals.\n",
      "==========================================================================\n",
      "Ask your next question please------------------>\n",
      "Tell me your question\n",
      "Question is : bye\n",
      "-------------------------------------------------------------------------\n",
      "Goodbye! If you have any more questions or need further assistance in the future, feel free to reach out. Take care!\n",
      "==========================================================================\n",
      "Ask your next question please------------------>\n",
      "Thanks for your questions\n"
     ]
    }
   ],
   "source": [
    "temp_str = ''\n",
    "records_all = []\n",
    "while (temp_str != 'bye'):\n",
    "    print('Tell me your question')\n",
    "    response = recognize_speech_from_mic(recognizer, mic)\n",
    "    if response['success']:\n",
    "        temp_str = response['transcription']\n",
    "        print('Question is :' ,temp_str )\n",
    "        print('-------------------------------------------------------------------------')\n",
    "        response = question_to_ans (temp_str)\n",
    "        print(response.content)\n",
    "        print('==========================================================================')\n",
    "        time.sleep(20)\n",
    "        print(\"Ask your next question please------------------>\")\n",
    "        \n",
    "print('Thanks for your questions')"
   ]
  },
  {
   "cell_type": "code",
   "execution_count": null,
   "id": "98304108",
   "metadata": {},
   "outputs": [],
   "source": [
    "## https://github.com/python-academy/GenAI_Voice_ChatGPT"
   ]
  }
 ],
 "metadata": {
  "kernelspec": {
   "display_name": "Python 3",
   "language": "python",
   "name": "python3"
  },
  "language_info": {
   "codemirror_mode": {
    "name": "ipython",
    "version": 3
   },
   "file_extension": ".py",
   "mimetype": "text/x-python",
   "name": "python",
   "nbconvert_exporter": "python",
   "pygments_lexer": "ipython3",
   "version": "3.8.8"
  }
 },
 "nbformat": 4,
 "nbformat_minor": 5
}
